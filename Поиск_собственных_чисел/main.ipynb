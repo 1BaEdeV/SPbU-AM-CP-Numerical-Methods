{
 "cells": [
  {
   "cell_type": "code",
   "id": "initial_id",
   "metadata": {
    "collapsed": true,
    "ExecuteTime": {
     "end_time": "2025-03-05T12:36:56.984815Z",
     "start_time": "2025-03-05T12:36:56.813105Z"
    }
   },
   "source": [
    "from funcs import *\n",
    "from methods import *\n",
    "from Решение_СЛАУ.Methods import *\n",
    "import numpy as np\n",
    "C = class_matrix.Matrix(randmatr(3))\n",
    "if np.linalg.det(np.array(C.matrix)) == 0:\n",
    "    print(\"Матрица C вырождена, сгенерируйте другую.\")\n",
    "else:\n",
    "    lamda = class_matrix.Matrix(randdig(3))\n",
    "    A = C.inverse() * lamda * C\n",
    "    lamda.PrintM()\n",
    "    print(\"\")\n",
    "    A.PrintM()\n",
    "    print(\"\")\n",
    "    mas = QRalg(A)\n",
    "    print(mas)"
   ],
   "outputs": [
    {
     "name": "stdout",
     "output_type": "stream",
     "text": [
      "  1   0   0\n",
      "  0   7   0\n",
      "  0   0  10\n",
      "\n",
      "4.500000000000001 -3.166666666666666 -0.166666666666666\n",
      "-7.627659574468085 2.648936170212766 -2.755319148936170\n",
      "11.425531914893618 7.170212765957448 10.851063829787236\n",
      "\n",
      "[7.000000000000002, 0.6822420626712544, 10.317757937328746]\n"
     ]
    }
   ],
   "execution_count": 1
  },
  {
   "metadata": {
    "ExecuteTime": {
     "end_time": "2025-03-05T12:36:58.658662Z",
     "start_time": "2025-03-05T12:36:58.648807Z"
    }
   },
   "cell_type": "code",
   "source": [
    "z=PM(A)\n",
    "print(z)"
   ],
   "id": "c0e09cddd518ec3f",
   "outputs": [
    {
     "name": "stdout",
     "output_type": "stream",
     "text": [
      "(10.000023811649656, [0.3308368120133185, 0.0, 0.0])\n"
     ]
    }
   ],
   "execution_count": 2
  },
  {
   "metadata": {
    "ExecuteTime": {
     "end_time": "2025-03-08T11:11:52.089551Z",
     "start_time": "2025-03-08T11:11:51.908710Z"
    }
   },
   "cell_type": "code",
   "source": [
    "z=invPM(A,0)\n",
    "print(z)"
   ],
   "id": "6e4a162bd5c67463",
   "outputs": [
    {
     "ename": "NameError",
     "evalue": "name 'invPM' is not defined",
     "output_type": "error",
     "traceback": [
      "\u001B[0;31m---------------------------------------------------------------------------\u001B[0m",
      "\u001B[0;31mNameError\u001B[0m                                 Traceback (most recent call last)",
      "Cell \u001B[0;32mIn[1], line 1\u001B[0m\n\u001B[0;32m----> 1\u001B[0m z\u001B[38;5;241m=\u001B[39m\u001B[43minvPM\u001B[49m(A,\u001B[38;5;241m0\u001B[39m)\n\u001B[1;32m      2\u001B[0m \u001B[38;5;28mprint\u001B[39m(z)\n",
      "\u001B[0;31mNameError\u001B[0m: name 'invPM' is not defined"
     ]
    }
   ],
   "execution_count": 1
  },
  {
   "metadata": {},
   "cell_type": "code",
   "outputs": [],
   "execution_count": null,
   "source": "",
   "id": "5c188f3eb5b01cb0"
  }
 ],
 "metadata": {
  "kernelspec": {
   "display_name": "Python 3",
   "language": "python",
   "name": "python3"
  },
  "language_info": {
   "codemirror_mode": {
    "name": "ipython",
    "version": 2
   },
   "file_extension": ".py",
   "mimetype": "text/x-python",
   "name": "python",
   "nbconvert_exporter": "python",
   "pygments_lexer": "ipython2",
   "version": "2.7.6"
  }
 },
 "nbformat": 4,
 "nbformat_minor": 5
}
