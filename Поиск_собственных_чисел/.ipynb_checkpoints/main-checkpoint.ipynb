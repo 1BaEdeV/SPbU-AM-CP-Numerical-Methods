{
 "cells": [
  {
   "cell_type": "code",
   "id": "initial_id",
   "metadata": {
    "collapsed": true,
    "jupyter": {
     "is_executing": true
    }
   },
   "source": [
    "from Решение_СЛАУ.class_matrix import Matrix\n",
    "from funcs import *\n",
    "from methods import *\n",
    "from Решение_СЛАУ.class_matrix import *\n",
    "from Решение_СЛАУ.Methods import *\n",
    "\n",
    "lamda=Matrix(randdig(3))\n",
    "C=Matrix(randdig(3))\n",
    "A=C.inverse()*lamda*C\n",
    "A.PrintM()"
   ],
   "outputs": [],
   "execution_count": null
  },
  {
   "metadata": {
    "jupyter": {
     "is_executing": true
    }
   },
   "cell_type": "code",
   "source": "",
   "id": "44d9d51875dcf565",
   "outputs": [],
   "execution_count": null
  },
  {
   "metadata": {},
   "cell_type": "code",
   "outputs": [],
   "execution_count": null,
   "source": "",
   "id": "68e88ab10f4b909"
  }
 ],
 "metadata": {
  "kernelspec": {
   "display_name": "Python 3",
   "language": "python",
   "name": "python3"
  },
  "language_info": {
   "codemirror_mode": {
    "name": "ipython",
    "version": 2
   },
   "file_extension": ".py",
   "mimetype": "text/x-python",
   "name": "python",
   "nbconvert_exporter": "python",
   "pygments_lexer": "ipython2",
   "version": "2.7.6"
  }
 },
 "nbformat": 4,
 "nbformat_minor": 5
}
